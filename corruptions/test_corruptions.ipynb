{
 "cells": [
  {
   "cell_type": "code",
   "execution_count": 21,
   "metadata": {
    "ExecuteTime": {
     "end_time": "2024-03-11T21:48:17.773433Z",
     "start_time": "2024-03-11T21:48:17.765819Z"
    }
   },
   "outputs": [
    {
     "ename": "ModuleNotFoundError",
     "evalue": "No module named 'pandas'",
     "output_type": "error",
     "traceback": [
      "\u001B[0;31m---------------------------------------------------------------------------\u001B[0m",
      "\u001B[0;31mModuleNotFoundError\u001B[0m                       Traceback (most recent call last)",
      "Cell \u001B[0;32mIn[21], line 2\u001B[0m\n\u001B[1;32m      1\u001B[0m \u001B[38;5;28;01mimport\u001B[39;00m \u001B[38;5;21;01mnumpy\u001B[39;00m \u001B[38;5;28;01mas\u001B[39;00m \u001B[38;5;21;01mnp\u001B[39;00m\n\u001B[0;32m----> 2\u001B[0m \u001B[38;5;28;01mimport\u001B[39;00m \u001B[38;5;21;01mpandas\u001B[39;00m \u001B[38;5;28;01mas\u001B[39;00m \u001B[38;5;21;01mpd\u001B[39;00m\n\u001B[1;32m      4\u001B[0m \u001B[38;5;28;01mfrom\u001B[39;00m \u001B[38;5;21;01mmissing_value\u001B[39;00m \u001B[38;5;28;01mimport\u001B[39;00m MissingValue\n\u001B[1;32m      5\u001B[0m \u001B[38;5;28;01mfrom\u001B[39;00m \u001B[38;5;21;01mreplace_character\u001B[39;00m \u001B[38;5;28;01mimport\u001B[39;00m ReplaceCharacter\n",
      "\u001B[0;31mModuleNotFoundError\u001B[0m: No module named 'pandas'"
     ]
    }
   ],
   "source": [
    "import numpy as np\n",
    "import pandas as pd\n",
    "\n",
    "from missing_value import MissingValue\n",
    "from replace_character import ReplaceCharacter"
   ]
  },
  {
   "cell_type": "code",
   "execution_count": null,
   "metadata": {
    "ExecuteTime": {
     "end_time": "2024-03-11T21:48:17.774844Z",
     "start_time": "2024-03-11T21:48:17.774766Z"
    }
   },
   "outputs": [],
   "source": [
    "df = pd.read_csv('../data/Amazon Product Reviews/test.csv')"
   ]
  },
  {
   "cell_type": "code",
   "execution_count": null,
   "metadata": {
    "ExecuteTime": {
     "end_time": "2024-03-11T21:48:17.775863Z",
     "start_time": "2024-03-11T21:48:17.775576Z"
    }
   },
   "outputs": [],
   "source": [
    "pipeline = MissingValue(column='overall', fraction=0.3, missing_method='MCAR', na_value=np.nan)\n",
    "pipeline.apply_missing(df)"
   ]
  },
  {
   "cell_type": "code",
   "execution_count": null,
   "metadata": {},
   "outputs": [],
   "source": [
    "df.head(20)"
   ]
  },
  {
   "cell_type": "code",
   "execution_count": null,
   "metadata": {
    "ExecuteTime": {
     "end_time": "2024-03-11T21:48:17.777434Z",
     "start_time": "2024-03-11T21:48:17.777207Z"
    }
   },
   "outputs": [],
   "source": [
    "data = {'text': ['Hello, world!', 'This is a test.', 'Pandas is fun!', 'Data science is cool!', 'Python is awesome!']}\n",
    "df = pd.DataFrame(data)\n",
    "\n",
    "\n",
    "pipeline = ReplaceCharacter(column='text', fraction=0.2, rate=0.3)\n",
    "\n",
    "# 应用pipeline\n",
    "df_transformed = pipeline.transform(df)\n",
    "print(df_transformed)\n"
   ]
  }
 ],
 "metadata": {
  "kernelspec": {
   "display_name": "dp",
   "language": "python",
   "name": "python3"
  },
  "language_info": {
   "codemirror_mode": {
    "name": "ipython",
    "version": 3
   },
   "file_extension": ".py",
   "mimetype": "text/x-python",
   "name": "python",
   "nbconvert_exporter": "python",
   "pygments_lexer": "ipython3",
   "version": "3.9.18"
  }
 },
 "nbformat": 4,
 "nbformat_minor": 2
}
